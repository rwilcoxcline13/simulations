{
 "cells": [
  {
   "cell_type": "code",
   "execution_count": null,
   "metadata": {
    "collapsed": true
   },
   "outputs": [],
   "source": [
    "import numpy as np\n",
    "import matplotlib.pyplot as plt\n",
    "from matplotlib import animation\n",
    "from matplotlib import rc\n",
    "rc('text', usetex=True)\n",
    "%matplotlib inline"
   ]
  },
  {
   "cell_type": "code",
   "execution_count": null,
   "metadata": {
    "collapsed": false
   },
   "outputs": [],
   "source": [
    "def fourier_second_derivative(u, dx):\n",
    "\n",
    "    uhat = np.fft.fft(u)\n",
    "    nyquist_freq = np.pi/dx\n",
    "    dk = nyquist_freq/(nx/2)\n",
    "    k = np.arange(float(nx))\n",
    "    k[:nx/2] = k[:nx/2]*dk\n",
    "    k[nx/2:] = k[:nx/2]-nyquist_freq\n",
    "    duhat = (1j*k)**2*uhat\n",
    "    ddu = np.real(np.fft.ifft(duhat))\n",
    "    \n",
    "    \n",
    "    return ddu"
   ]
  },
  {
   "cell_type": "code",
   "execution_count": null,
   "metadata": {
    "collapsed": true
   },
   "outputs": [],
   "source": [
    "#Specify spatial grid\n",
    "\n",
    "xmin = -10\n",
    "xmax = 10\n",
    "nx = 256\n",
    "x = np.linspace(xmin, xmax, nx)\n",
    "dx = x[1] - x[0]\n",
    "\n",
    "#Specify temporal grid and stability constant\n",
    "v = 1\n",
    "stability_constant = 0.2\n",
    "dt = stability_constant*dx/v\n",
    "nt = 2400\n",
    "t = np.arange(0, nt)*dt\n",
    "\n",
    "#Initialize empty array for displacements (u(x, t_{i})) to be dumped. Specify boundary conditions\n",
    "\n",
    "u_initial = np.zeros(len(x))\n",
    "u = np.zeros((len(u_initial), nt))\n",
    "u_initial[0] = 0\n",
    "u_initial[-1] = 0\n",
    "u[:, 0] = u_initial\n",
    "uold = u_initial\n",
    "\n",
    "\n",
    "#Define source term (time dependent amplitude with a Gaussian Pulse in the spatial domain)\n",
    "\n",
    "A = 500*np.sin(8*(t-4))*np.exp(-(t-4)**2)\n",
    "sigma = 1.5*dx\n",
    "source = np.exp(-x**2/sigma**2)"
   ]
  },
  {
   "cell_type": "code",
   "execution_count": null,
   "metadata": {
    "collapsed": false
   },
   "outputs": [],
   "source": [
    "#Time marching scheme\n",
    "\n",
    "for t in range(nt-1):\n",
    "\n",
    "    ddu = fourier_second_derivative(u[:, t], dx)\n",
    "    unew = v**2*dt**2*ddu + 2*u[:, t] - uold\n",
    "    unew = unew + A[t]*source*dt**2\n",
    "    unew[0] = 0\n",
    "    unew[-1] = 0\n",
    "\n",
    "    u[:, t+1] = unew\n",
    "    uold = u[:, t]\n",
    "\n",
    "\n"
   ]
  },
  {
   "cell_type": "code",
   "execution_count": null,
   "metadata": {
    "collapsed": false
   },
   "outputs": [],
   "source": [
    "#Initialize axis for plotting (this will be updated during the animation portion)\n",
    "\n",
    "fig = plt.figure()\n",
    "ax = plt.axes(xlim=(-12, 12), ylim=(-5, 5))\n",
    "ax.set_xlabel(r'Position ($x$)')\n",
    "ax.set_ylabel(r'Displacement ($u(x, t)$)')\n",
    "plt.title(r'1D Wave Equation with Source: Fixed Boundaries')\n",
    "line, = ax.plot([], [], lw=2, alpha = 0.8)"
   ]
  },
  {
   "cell_type": "code",
   "execution_count": null,
   "metadata": {
    "collapsed": false
   },
   "outputs": [],
   "source": [
    "#Define animation functions\n",
    "\n",
    "def init():\n",
    "    line.set_data([], [])\n",
    "    return line,\n",
    "\n",
    "def animate(i):\n",
    "    \n",
    "    xmin = -10\n",
    "    xmax = 10\n",
    "    nx = 256\n",
    "    x = np.linspace(xmin, xmax, nx)\n",
    "    y = u[:, i]\n",
    "    line.set_data(x, y)\n",
    "    return line,"
   ]
  },
  {
   "cell_type": "code",
   "execution_count": null,
   "metadata": {
    "collapsed": true
   },
   "outputs": [],
   "source": [
    "#Animate and save as mp4\n",
    "\n",
    "anim = animation.FuncAnimation(fig, animate, init_func=init,\n",
    "                               frames= nt, interval=1, blit=True)\n",
    "\n",
    "anim.save('1D_acoustic_wave_source_term.mp4', fps=30, extra_args=['-vcodec', 'libx264'])"
   ]
  },
  {
   "cell_type": "code",
   "execution_count": null,
   "metadata": {
    "collapsed": false
   },
   "outputs": [],
   "source": []
  },
  {
   "cell_type": "code",
   "execution_count": null,
   "metadata": {
    "collapsed": false
   },
   "outputs": [],
   "source": [
    "\n",
    "\n",
    "\n",
    "\n",
    "        "
   ]
  },
  {
   "cell_type": "code",
   "execution_count": null,
   "metadata": {
    "collapsed": false
   },
   "outputs": [],
   "source": []
  },
  {
   "cell_type": "code",
   "execution_count": null,
   "metadata": {
    "collapsed": false
   },
   "outputs": [],
   "source": []
  },
  {
   "cell_type": "code",
   "execution_count": null,
   "metadata": {
    "collapsed": false
   },
   "outputs": [],
   "source": []
  },
  {
   "cell_type": "code",
   "execution_count": null,
   "metadata": {
    "collapsed": false
   },
   "outputs": [],
   "source": []
  },
  {
   "cell_type": "code",
   "execution_count": null,
   "metadata": {
    "collapsed": true
   },
   "outputs": [],
   "source": []
  },
  {
   "cell_type": "code",
   "execution_count": null,
   "metadata": {
    "collapsed": true
   },
   "outputs": [],
   "source": []
  }
 ],
 "metadata": {
  "anaconda-cloud": {},
  "kernelspec": {
   "display_name": "Python [Root]",
   "language": "python",
   "name": "Python [Root]"
  },
  "language_info": {
   "codemirror_mode": {
    "name": "ipython",
    "version": 3
   },
   "file_extension": ".py",
   "mimetype": "text/x-python",
   "name": "python",
   "nbconvert_exporter": "python",
   "pygments_lexer": "ipython3",
   "version": "3.5.2"
  }
 },
 "nbformat": 4,
 "nbformat_minor": 2
}
