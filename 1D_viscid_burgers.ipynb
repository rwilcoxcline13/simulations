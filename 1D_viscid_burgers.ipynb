{
 "cells": [
  {
   "cell_type": "code",
   "execution_count": 1,
   "metadata": {
    "collapsed": false
   },
   "outputs": [],
   "source": [
    "import numpy as np\n",
    "import matplotlib.pyplot as plt\n",
    "from matplotlib import animation\n",
    "from matplotlib import rc\n",
    "rc('text', usetex=True)\n",
    "%matplotlib inline"
   ]
  },
  {
   "cell_type": "code",
   "execution_count": 2,
   "metadata": {
    "collapsed": false
   },
   "outputs": [],
   "source": [
    "def fourier_first_derivative(u, dx):\n",
    "\n",
    "    uhat = np.fft.fft(u)\n",
    "    \n",
    "    #Initialize wavenumbers k\n",
    "    \n",
    "    nx = u.size\n",
    "    nyquist_freq = np.pi/dx #Define maximum k as the Nyquist frequency to avoid aliasing\n",
    "    dk = nyquist_freq/(nx/2) #Define k interval\n",
    "    k = np.arange(float(nx))\n",
    "    \n",
    "    #Order wavenumbers k\n",
    "    k[:nx/2] = k[:nx/2]*dk \n",
    "    k[nx/2:] = k[:nx/2]-nyquist_freq\n",
    "    \n",
    "    #Calculate first derivative\n",
    "    duhat = (1j*k)*uhat\n",
    "    du = np.real(np.fft.ifft(duhat))\n",
    "    \n",
    "    return du"
   ]
  },
  {
   "cell_type": "code",
   "execution_count": 3,
   "metadata": {
    "collapsed": false
   },
   "outputs": [],
   "source": [
    "def fourier_second_derivative(u, dx):\n",
    "\n",
    "    uhat = np.fft.fft(u)\n",
    "    nx = u.size\n",
    "    nyquist_freq = np.pi/dx\n",
    "    dk = nyquist_freq/(nx/2)\n",
    "    k = np.arange(float(nx))\n",
    "    k[:nx/2] = k[:nx/2]*dk\n",
    "    k[nx/2:] = k[:nx/2]-nyquist_freq\n",
    "    duhat = (1j*k)**2*uhat\n",
    "    ddu = np.real(np.fft.ifft(duhat))\n",
    "    \n",
    "    return ddu\n"
   ]
  },
  {
   "cell_type": "code",
   "execution_count": 4,
   "metadata": {
    "collapsed": false
   },
   "outputs": [],
   "source": [
    "#Specify Spatial Grid \n",
    "\n",
    "nx = 40\n",
    "j = np.arange(nx)+1\n",
    "x = j*2*np.pi/nx\n",
    "dx = 2*np.pi/nx\n",
    "\n",
    "#Define temporal grid\n",
    "\n",
    "\n",
    "nt = 512\n",
    "tmin = 0\n",
    "tmax = 2\n",
    "t = np.linspace(tmin, tmax, nt)\n",
    "dt = t[1] - t[0]\n",
    "nu = 0.1\n",
    "\n",
    "#Define initial condition and boundary conditions\n",
    "u_initial = np.sin(x)\n",
    "uold = u_initial\n",
    "\n",
    "\n",
    "#Initialize array for u(x, t_{i})\n",
    "u = np.zeros((len(u_initial), nt))\n",
    "u[:, 0] = u_initial\n",
    "\n",
    "\n",
    "\n",
    "\n",
    "\n",
    "\n",
    "\n",
    "\n",
    "\n",
    "\n"
   ]
  },
  {
   "cell_type": "code",
   "execution_count": 5,
   "metadata": {
    "collapsed": false
   },
   "outputs": [
    {
     "name": "stderr",
     "output_type": "stream",
     "text": [
      "/Users/admin/anaconda/lib/python3.5/site-packages/ipykernel/__main__.py:13: VisibleDeprecationWarning: using a non-integer number instead of an integer will result in an error in the future\n",
      "/Users/admin/anaconda/lib/python3.5/site-packages/ipykernel/__main__.py:14: VisibleDeprecationWarning: using a non-integer number instead of an integer will result in an error in the future\n",
      "/Users/admin/anaconda/lib/python3.5/site-packages/ipykernel/__main__.py:8: VisibleDeprecationWarning: using a non-integer number instead of an integer will result in an error in the future\n",
      "/Users/admin/anaconda/lib/python3.5/site-packages/ipykernel/__main__.py:9: VisibleDeprecationWarning: using a non-integer number instead of an integer will result in an error in the future\n"
     ]
    }
   ],
   "source": [
    "#Time Marching\n",
    "\n",
    "for i in range(len(t)-1):\n",
    "    \n",
    "    if i == 0:\n",
    "        du = fourier_first_derivative(u[:, i], dx)\n",
    "        ddu = fourier_second_derivative(u[:, i], dx)\n",
    "        RHS = 0.1*ddu - u[:, i]*du \n",
    "        unew = 2*dt*RHS + uold\n",
    "        u[:, i+1] = unew\n",
    "    \n",
    "    else:\n",
    "        du = fourier_first_derivative(u[:, i], dx)\n",
    "        ddu = fourier_second_derivative(u[:, i], dx)\n",
    "        RHS = 0.1*ddu - u[:, i]*du \n",
    "        unew = 2*dt*RHS + u[:, i-1]\n",
    "        u[:, i+1] = unew\n",
    "        \n",
    "        if np.max(u[:, i]) > 2:\n",
    "            \n",
    "            break\n",
    "        \n",
    "\n",
    "    \n",
    "\n",
    "    \n",
    "\n",
    "    \n",
    "\n",
    "    \n",
    "    \n",
    "\n",
    "    \n",
    "\n",
    "\n",
    "\n",
    "\n",
    "\n",
    "\n"
   ]
  },
  {
   "cell_type": "code",
   "execution_count": 6,
   "metadata": {
    "collapsed": false
   },
   "outputs": [
    {
     "data": {
      "image/png": "[encoded data removed]",
      "text/plain": [
       "<matplotlib.figure.Figure at 0x10c7ac828>"
      ]
     },
     "metadata": {},
     "output_type": "display_data"
    }
   ],
   "source": [
    "#Initialize Plot for animation\n",
    "\n",
    "fig = plt.figure()\n",
    "ax = plt.axes(xlim=(0, 2*np.pi), ylim=(-1, 1))\n",
    "ax.set_xlabel(r'Position ($x$)')\n",
    "ax.set_ylabel(r'Displacement ($u(x, t)$)')\n",
    "plt.title(r'1D Viscid Burgers Equation')\n",
    "line, = ax.plot([], [], lw=2, alpha = 0.8)"
   ]
  },
  {
   "cell_type": "code",
   "execution_count": 7,
   "metadata": {
    "collapsed": false
   },
   "outputs": [],
   "source": [
    "#Functions to animate plot through time steps\n",
    "\n",
    "def init():\n",
    "    line.set_data([], [])\n",
    "    return line,\n",
    "\n",
    "def animate(i):\n",
    "    \n",
    "    xmin = 0\n",
    "    xmax = 2*np.pi\n",
    "    \n",
    "    x = np.linspace(xmin, xmax, nx)\n",
    "    y = u[:, i]\n",
    "    \n",
    "    line.set_data(x, y)\n",
    "    return line,\n",
    "\n"
   ]
  },
  {
   "cell_type": "code",
   "execution_count": 8,
   "metadata": {
    "collapsed": false
   },
   "outputs": [],
   "source": [
    "#Export to mpeg\n",
    "\n",
    "anim = animation.FuncAnimation(fig, animate, init_func=init,\n",
    "                               frames= 200, interval=1, blit=True)\n",
    "\n",
    "anim.save('Viscid_Burgers.mp4', fps=30, extra_args=['-vcodec', 'libx264'])\n",
    "\n",
    "        \n",
    "\n",
    "\n",
    "\n",
    "    \n",
    "    \n"
   ]
  },
  {
   "cell_type": "code",
   "execution_count": null,
   "metadata": {
    "collapsed": false
   },
   "outputs": [],
   "source": []
  },
  {
   "cell_type": "code",
   "execution_count": null,
   "metadata": {
    "collapsed": true
   },
   "outputs": [],
   "source": []
  },
  {
   "cell_type": "code",
   "execution_count": null,
   "metadata": {
    "collapsed": false
   },
   "outputs": [],
   "source": []
  },
  {
   "cell_type": "code",
   "execution_count": null,
   "metadata": {
    "collapsed": false
   },
   "outputs": [],
   "source": []
  },
  {
   "cell_type": "code",
   "execution_count": null,
   "metadata": {
    "collapsed": true
   },
   "outputs": [],
   "source": []
  }
 ],
 "metadata": {
  "anaconda-cloud": {},
  "kernelspec": {
   "display_name": "Python [conda root]",
   "language": "python",
   "name": "conda-root-py"
  },
  "language_info": {
   "codemirror_mode": {
    "name": "ipython",
    "version": 3
   },
   "file_extension": ".py",
   "mimetype": "text/x-python",
   "name": "python",
   "nbconvert_exporter": "python",
   "pygments_lexer": "ipython3",
   "version": "3.5.2"
  }
 },
 "nbformat": 4,
 "nbformat_minor": 2
}
