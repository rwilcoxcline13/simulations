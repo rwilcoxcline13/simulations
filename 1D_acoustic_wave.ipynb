{
 "cells": [
  {
   "cell_type": "code",
   "execution_count": null,
   "metadata": {
    "collapsed": false
   },
   "outputs": [],
   "source": [
    "import numpy as np\n",
    "import matplotlib.pyplot as plt\n",
    "from matplotlib import animation\n",
    "from matplotlib import rc\n",
    "rc('text', usetex=True)\n",
    "%matplotlib inline"
   ]
  },
  {
   "cell_type": "code",
   "execution_count": null,
   "metadata": {
    "collapsed": false
   },
   "outputs": [],
   "source": [
    "def fourier_first_derivative(u, dx):\n",
    "\n",
    "    uhat = np.fft.fft(u)\n",
    "    \n",
    "    #Initialize wavenumbers k\n",
    "    \n",
    "    nyquist_freq = np.pi/dx #Define maximum k as the Nyquist frequency to avoid aliasing\n",
    "    dk = nyquist_freq/(nx/2) #Define k interval\n",
    "    k = np.arange(float(nx))\n",
    "    \n",
    "    #Order wavenumbers k\n",
    "    k[:nx/2] = k[:nx/2]*dk \n",
    "    k[nx/2:] = k[:nx/2]-nyquist_freq\n",
    "    \n",
    "    #Calculate first derivative\n",
    "    duhat = (1j*k)*uhat\n",
    "    du = np.real(np.fft.ifft(duhat))\n",
    "    \n",
    "    return du"
   ]
  },
  {
   "cell_type": "code",
   "execution_count": null,
   "metadata": {
    "collapsed": false
   },
   "outputs": [],
   "source": [
    "def fourier_second_derivative(u, dx):\n",
    "\n",
    "    uhat = np.fft.fft(u)\n",
    "    nyquist_freq = np.pi/dx\n",
    "    dk = nyquist_freq/(nx/2)\n",
    "    k = np.arange(float(nx))\n",
    "    k[:nx/2] = k[:nx/2]*dk\n",
    "    k[nx/2:] = k[:nx/2]-nyquist_freq\n",
    "    duhat = (1j*k)**2*uhat\n",
    "    ddu = np.real(np.fft.ifft(duhat))\n",
    "    \n",
    "    return ddu\n"
   ]
  },
  {
   "cell_type": "code",
   "execution_count": null,
   "metadata": {
    "collapsed": false
   },
   "outputs": [],
   "source": [
    "#Specify Spatial Grid \n",
    "\n",
    "xmin = -10\n",
    "xmax = 10\n",
    "nx = 256\n",
    "x = np.linspace(xmin, xmax, nx)\n",
    "dx = x[1] - x[0]\n",
    "\n",
    "#Define temporal grid\n",
    "\n",
    "stability_constant = 0.2\n",
    "dt = stability_constant*dx/v\n",
    "nt = 2400\n",
    "\n",
    "#Define initial condition and boundary conditions\n",
    "u_initial = np.exp(-x**2)\n",
    "uold = u_initial\n",
    "\n",
    "v = 1 #wave velocity\n",
    "\n",
    "#Initialize array for u(x, t_{i})\n",
    "u = np.zeros((len(u_initial), nt))\n",
    "u[:, 0] = u_initial\n",
    "\n",
    "\n",
    "\n"
   ]
  },
  {
   "cell_type": "code",
   "execution_count": null,
   "metadata": {
    "collapsed": false
   },
   "outputs": [],
   "source": [
    "#Time Marching Scheme\n",
    "\n",
    "for t in range(nt-1):\n",
    "\n",
    "    ddu = fourier_second_derivative(u[:, t], dx)\n",
    "    unew = ddu*dt**2 + 2*u[:, t] - uold\n",
    "    unew[0] = 0\n",
    "    unew[-1] = 0\n",
    "\n",
    "    u[:, t+1] = unew\n",
    "    uold = u[:, t]\n"
   ]
  },
  {
   "cell_type": "code",
   "execution_count": null,
   "metadata": {
    "collapsed": false
   },
   "outputs": [],
   "source": [
    "#Initialize Plot for animation\n",
    "\n",
    "fig = plt.figure()\n",
    "ax = plt.axes(xlim=(-12, 12), ylim=(-2, 2))\n",
    "ax.set_xlabel(r'Position ($x$)')\n",
    "ax.set_ylabel(r'Displacement ($u(x, t)$)')\n",
    "plt.title(r'1D Wave Equation: Fixed Boundaries')\n",
    "line, = ax.plot([], [], lw=2, alpha = 0.8)"
   ]
  },
  {
   "cell_type": "code",
   "execution_count": null,
   "metadata": {
    "collapsed": false
   },
   "outputs": [],
   "source": [
    "#Functions to animate plot through time steps\n",
    "\n",
    "def init():\n",
    "    line.set_data([], [])\n",
    "    return line,\n",
    "\n",
    "def animate(i):\n",
    "    \n",
    "    xmin = -10\n",
    "    xmax = 10\n",
    "    nx = 256\n",
    "    x = np.linspace(xmin, xmax, nx)\n",
    "    y = u[:, i]\n",
    "    line.set_data(x, y)\n",
    "    return line,\n",
    "\n",
    "\n",
    "        \n",
    "\n",
    "\n",
    "\n",
    "    \n",
    "    \n"
   ]
  },
  {
   "cell_type": "code",
   "execution_count": null,
   "metadata": {
    "collapsed": false
   },
   "outputs": [],
   "source": [
    "#Export to mpeg\n",
    "\n",
    "anim = animation.FuncAnimation(fig, animate, init_func=init,\n",
    "                               frames= nt, interval=1, blit=True)\n",
    "\n",
    "anim.save('1D_wave_Fixed_Boundaries.mp4', fps=30, extra_args=['-vcodec', 'libx264'])"
   ]
  },
  {
   "cell_type": "code",
   "execution_count": null,
   "metadata": {
    "collapsed": true
   },
   "outputs": [],
   "source": []
  },
  {
   "cell_type": "code",
   "execution_count": null,
   "metadata": {
    "collapsed": false
   },
   "outputs": [],
   "source": []
  },
  {
   "cell_type": "code",
   "execution_count": null,
   "metadata": {
    "collapsed": false
   },
   "outputs": [],
   "source": []
  },
  {
   "cell_type": "code",
   "execution_count": null,
   "metadata": {
    "collapsed": true
   },
   "outputs": [],
   "source": []
  }
 ],
 "metadata": {
  "anaconda-cloud": {},
  "kernelspec": {
   "display_name": "Python [Root]",
   "language": "python",
   "name": "Python [Root]"
  },
  "language_info": {
   "codemirror_mode": {
    "name": "ipython",
    "version": 3
   },
   "file_extension": ".py",
   "mimetype": "text/x-python",
   "name": "python",
   "nbconvert_exporter": "python",
   "pygments_lexer": "ipython3",
   "version": "3.5.2"
  }
 },
 "nbformat": 4,
 "nbformat_minor": 2
}
